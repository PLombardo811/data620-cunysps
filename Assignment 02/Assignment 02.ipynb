{
 "cells": [
  {
   "cell_type": "markdown",
   "metadata": {},
   "source": [
    "# Importing libraries"
   ]
  },
  {
   "cell_type": "code",
   "execution_count": 1,
   "metadata": {},
   "outputs": [],
   "source": [
    "import pandas as pd\n",
    "import networkx as nx\n",
    "import matplotlib.pyplot as plt\n",
    "from mpl_toolkits.basemap import Basemap\n",
    "import requests\n",
    "import io\n",
    "import re\n",
    "import warnings\n",
    "warnings.filterwarnings(\"ignore\", category=UserWarning) # only to hide deprecation warning about axes.hold"
   ]
  },
  {
   "cell_type": "markdown",
   "metadata": {},
   "source": [
    "The libraries being dealt with primarily are pandas, networkx, matplotlib, and requests. We are using pandas for the purpose of data analysis and bringing the data we'll be using into Python."
   ]
  },
  {
   "cell_type": "markdown",
   "metadata": {},
   "source": [
    "# Remove me possibly... globe!"
   ]
  },
  {
   "cell_type": "markdown",
   "metadata": {},
   "source": [
    "plt.figure(figsize=(20,10))\n",
    "world_map = Basemap(projection='robin',lon_0=0,resolution='l')\n",
    "world_map.drawcountries(linewidth = 0.5)\n",
    "world_map.fillcontinents(color='white',lake_color='white')\n",
    "world_map.drawcoastlines(linewidth=0.5)"
   ]
  },
  {
   "cell_type": "markdown",
   "metadata": {},
   "source": [
    "In the above code, we have a globe that we are using for mapping the languages onto. This code actually might be removed at the suggestion of the group as it might be too far reaching. The globe's size was initially small, so it was increased using the `plt.figure()` function. From there, Basemap was used to create a Robinson projection of the globe, and the countries and coasts were all drawn with 0.5 pixel line widths; the lakes were drawn in white to essentially make them invisible."
   ]
  },
  {
   "cell_type": "markdown",
   "metadata": {},
   "source": [
    "# Setting up the data"
   ]
  },
  {
   "cell_type": "code",
   "execution_count": 2,
   "metadata": {},
   "outputs": [],
   "source": [
    "data_folder = \"https://github.com/gabartomeo/data620-cunysps/raw/master/Assignment 02/Data/\"\n",
    "languoid_url = data_folder + \"languoid.csv?raw=true\"\n",
    "languoid_content = requests.get(languoid_url).content\n",
    "languoid_csv = pd.read_csv(io.StringIO(languoid_content.decode('utf-8')))\n",
    "languoid = languoid_csv[[\"name\", \"id\", \"newick\", \"level\"]].copy()\n",
    "# print(languoid.head())\n",
    "# print(languoid.describe())"
   ]
  },
  {
   "cell_type": "markdown",
   "metadata": {},
   "source": [
    "The data we used came from [Kaggle](https://www.kaggle.com/rtatman/world-language-family-map). Using requests we gathered the content of the data stored on Github, and then read the entire file as a \\*.CSV using the pandas library's `read_csv()` function. We sectioned out the columns we wanted - name, latitude, longitude, newick, and level - and copied it into a new variable. This list might need to be shortened depending on whether the group thinks we should try mapping it on the globe or not."
   ]
  },
  {
   "cell_type": "code",
   "execution_count": 3,
   "metadata": {},
   "outputs": [
    {
     "data": {
      "text/plain": [
       "0                            [aala1237]\n",
       "1                            [aant1238]\n",
       "2                  [aari1239, gayi1237]\n",
       "3                            [aari1239]\n",
       "4                            [aari1240]\n",
       "5                            [aasa1238]\n",
       "6                            [aata1238]\n",
       "7                            [abaa1238]\n",
       "8                            [abab1239]\n",
       "9                  [bali1274, oldb1234]\n",
       "10                           [abad1240]\n",
       "11                           [abad1241]\n",
       "12                           [abag1245]\n",
       "13                           [abai1239]\n",
       "14                           [abai1240]\n",
       "15                           [abai1241]\n",
       "16                           [abak1242]\n",
       "17                           [abak1243]\n",
       "18                           [abal1238]\n",
       "19                           [abam1239]\n",
       "20                           [aban1242]\n",
       "21                           [aban1243]\n",
       "22       [aban1242, ekaj1238, nnam1238]\n",
       "23                           [abar1238]\n",
       "24                           [abau1245]\n",
       "25                           [abaw1238]\n",
       "26                           [abay1238]\n",
       "27       [ashk1247, bezs1238, tapa1256]\n",
       "28                           [abbe1238]\n",
       "29                           [abbr1238]\n",
       "                      ...              \n",
       "23213                        [zouu1235]\n",
       "23214                        [zoya1238]\n",
       "23215                        [zuar1238]\n",
       "23216                        [zuba1238]\n",
       "23217                        [zuba1242]\n",
       "23218                        [zuhu1238]\n",
       "23219                        [zuks1238]\n",
       "23220    [gemz1238, mine1239, zulg1243]\n",
       "23221                        [zulg1243]\n",
       "23222                        [zull1239]\n",
       "23223    [lala1263, ngon1266, qwab1238]\n",
       "23224                        [camt1236]\n",
       "23225                        [fana1235]\n",
       "23226              [xhos1239, zulu1248]\n",
       "23227                        [zuma1239]\n",
       "23228                        [zumb1240]\n",
       "23229                        [zumb1241]\n",
       "23230                        [zumo1240]\n",
       "23231                        [zumo1247]\n",
       "23232                        [zumo1248]\n",
       "23233                        [zumu1241]\n",
       "23234                        [zuni1245]\n",
       "23235                        [zuoj1238]\n",
       "23236                        [zura1238]\n",
       "23237                        [zurr1238]\n",
       "23238                        [zuti1239]\n",
       "23239                        [zuwa1238]\n",
       "23240                        [zwal1238]\n",
       "23241              [lowe1400, uppe1411]\n",
       "23242                        [zyud1238]\n",
       "Name: newick, Length: 23243, dtype: object"
      ]
     },
     "execution_count": 3,
     "metadata": {},
     "output_type": "execute_result"
    }
   ],
   "source": [
    "def strip_parentheses(newick_list):\n",
    "    list_new = re.sub(\"\\([^()\\\"]*(?:\\\"[^\\\"]*\\\"[^()\\\"]*)*\\)\", \"\", newick_list)\n",
    "    return list_new\n",
    "\n",
    "def remove_all_parentheses(newick_list_new):\n",
    "    while True:\n",
    "        try:\n",
    "            list_newest = strip_parentheses(list_newest)\n",
    "        except NameError:\n",
    "            list_newest = strip_parentheses(newick_list_new)\n",
    "        if \"(\" not in list_newest:\n",
    "            break\n",
    "    list_newest = re.findall(\"[a-z]{4}[0-9]{4}\", list_newest)\n",
    "    return list_newest\n",
    "\n",
    "languoid[\"newick\"] = languoid[\"newick\"].map(lambda x: x[x.index(\"(\")+1:x.rindex(\")\")] if x[0] == \"(\" else x)\n",
    "languoid[\"newick\"] = languoid[\"newick\"].map(remove_all_parentheses)\n",
    "languoid[\"newick\"]"
   ]
  },
  {
   "cell_type": "markdown",
   "metadata": {},
   "source": [
    "Two functions were created for the purpose of getting all the child languages, dialects, and families of a given language into a list format."
   ]
  },
  {
   "cell_type": "code",
   "execution_count": 4,
   "metadata": {},
   "outputs": [],
   "source": [
    "G = nx.Graph()\n",
    "G.add_nodes_from(languoid[\"id\"].tolist())"
   ]
  },
  {
   "cell_type": "code",
   "execution_count": 5,
   "metadata": {},
   "outputs": [],
   "source": [
    "languoid[\"length_newick\"] = languoid[\"newick\"].apply(len)"
   ]
  },
  {
   "cell_type": "code",
   "execution_count": 6,
   "metadata": {},
   "outputs": [],
   "source": [
    "languoid_pairs = languoid[languoid[\"length_newick\"]>1].copy()\n",
    "languoid_pairs = languoid_pairs[[\"id\", \"newick\"]]\n",
    "languoid_pairs[\"edges\"] = languoid_pairs.apply(lambda x: [(x[\"id\"], y) for y in x[\"newick\"]], axis=1)\n",
    "languoid_edges = []\n",
    "for pairs in languoid_pairs[\"edges\"].tolist():\n",
    "    if type(pairs) == type([]):\n",
    "        for each_edge in pairs:\n",
    "            languoid_edges.append(each_edge)\n",
    "    else:\n",
    "        languoid_edges.append(pairs)\n",
    "G.add_edges_from(languoid_edges)"
   ]
  },
  {
   "cell_type": "markdown",
   "metadata": {},
   "source": [
    "lingo_unique = list(set(list(sum(languoid_edges, ()))))\n",
    "lingo_edges_decon = list(sum(languoid_edges, ()))\n",
    "temp = [lingo_edges_decon.count(x) for x in lingo_unique]\n",
    "df = {\"lingo\": lingo_unique, \"frequency\": temp}\n",
    "df = pd.DataFrame(data=df)\n",
    "df.sort_values(\"frequency\", ascending=False)"
   ]
  },
  {
   "cell_type": "code",
   "execution_count": 7,
   "metadata": {},
   "outputs": [
    {
     "name": "stderr",
     "output_type": "stream",
     "text": [
      "C:\\Users\\Lil Star\\Anaconda3\\lib\\site-packages\\networkx\\drawing\\layout.py:499: RuntimeWarning: invalid value encountered in sqrt\n",
      "  distance = np.sqrt((delta**2).sum(axis=0))\n",
      "ERROR:root:Internal Python error in the inspect module.\n",
      "Below is the traceback from this internal error.\n",
      "\n"
     ]
    },
    {
     "name": "stdout",
     "output_type": "stream",
     "text": [
      "Traceback (most recent call last):\n",
      "  File \"C:\\Users\\Lil Star\\Anaconda3\\lib\\site-packages\\networkx\\drawing\\layout.py\", line 353, in fruchterman_reingold_layout\n",
      "    dim, random_state)\n",
      "  File \"<decorator-gen-601>\", line 2, in _sparse_fruchterman_reingold\n",
      "  File \"C:\\Users\\Lil Star\\Anaconda3\\lib\\site-packages\\networkx\\utils\\decorators.py\", line 387, in _random_state\n",
      "    return func(*new_args, **kwargs)\n",
      "  File \"C:\\Users\\Lil Star\\Anaconda3\\lib\\site-packages\\networkx\\drawing\\layout.py\", line 506, in _sparse_fruchterman_reingold\n",
      "    (delta * (k * k / distance**2 - Ai * distance / k)).sum(axis=1)\n",
      "  File \"C:\\Users\\Lil Star\\Anaconda3\\lib\\site-packages\\numpy\\core\\_methods.py\", line 32, in _sum\n",
      "    return umr_sum(a, axis, dtype, out, keepdims)\n",
      "KeyboardInterrupt\n",
      "\n",
      "During handling of the above exception, another exception occurred:\n",
      "\n",
      "Traceback (most recent call last):\n",
      "  File \"C:\\Users\\Lil Star\\Anaconda3\\lib\\site-packages\\IPython\\core\\interactiveshell.py\", line 2963, in run_code\n",
      "    exec(code_obj, self.user_global_ns, self.user_ns)\n",
      "  File \"<ipython-input-7-5b9a2663af72>\", line 1, in <module>\n",
      "    pos=nx.spring_layout(G)\n",
      "  File \"<decorator-gen-597>\", line 2, in fruchterman_reingold_layout\n",
      "  File \"C:\\Users\\Lil Star\\Anaconda3\\lib\\site-packages\\networkx\\utils\\decorators.py\", line 387, in _random_state\n",
      "    return func(*new_args, **kwargs)\n",
      "  File \"C:\\Users\\Lil Star\\Anaconda3\\lib\\site-packages\\networkx\\drawing\\layout.py\", line 361, in fruchterman_reingold_layout\n",
      "    threshold, dim, random_state)\n",
      "  File \"<decorator-gen-599>\", line 2, in _fruchterman_reingold\n",
      "  File \"C:\\Users\\Lil Star\\Anaconda3\\lib\\site-packages\\networkx\\utils\\decorators.py\", line 387, in _random_state\n",
      "    return func(*new_args, **kwargs)\n",
      "  File \"C:\\Users\\Lil Star\\Anaconda3\\lib\\site-packages\\networkx\\drawing\\layout.py\", line 417, in _fruchterman_reingold\n",
      "    distance = np.linalg.norm(delta, axis=-1)\n",
      "  File \"C:\\Users\\Lil Star\\Anaconda3\\lib\\site-packages\\numpy\\linalg\\linalg.py\", line 2286, in norm\n",
      "    s = (x.conj() * x).real\n",
      "KeyboardInterrupt\n",
      "\n",
      "During handling of the above exception, another exception occurred:\n",
      "\n",
      "Traceback (most recent call last):\n",
      "  File \"C:\\Users\\Lil Star\\Anaconda3\\lib\\site-packages\\IPython\\core\\interactiveshell.py\", line 2966, in run_code\n",
      "    sys.excepthook = old_excepthook\n",
      "KeyboardInterrupt\n",
      "\n",
      "During handling of the above exception, another exception occurred:\n",
      "\n",
      "Traceback (most recent call last):\n",
      "  File \"C:\\Users\\Lil Star\\Anaconda3\\lib\\site-packages\\IPython\\core\\interactiveshell.py\", line 1863, in showtraceback\n",
      "    stb = value._render_traceback_()\n",
      "AttributeError: 'KeyboardInterrupt' object has no attribute '_render_traceback_'\n",
      "\n",
      "During handling of the above exception, another exception occurred:\n",
      "\n",
      "Traceback (most recent call last):\n",
      "  File \"C:\\Users\\Lil Star\\Anaconda3\\lib\\site-packages\\IPython\\core\\ultratb.py\", line 1095, in get_records\n",
      "    return _fixed_getinnerframes(etb, number_of_lines_of_context, tb_offset)\n",
      "  File \"C:\\Users\\Lil Star\\Anaconda3\\lib\\site-packages\\IPython\\core\\ultratb.py\", line 311, in wrapped\n",
      "    return f(*args, **kwargs)\n",
      "  File \"C:\\Users\\Lil Star\\Anaconda3\\lib\\site-packages\\IPython\\core\\ultratb.py\", line 345, in _fixed_getinnerframes\n",
      "    records = fix_frame_records_filenames(inspect.getinnerframes(etb, context))\n",
      "  File \"C:\\Users\\Lil Star\\Anaconda3\\lib\\inspect.py\", line 1483, in getinnerframes\n",
      "    frameinfo = (tb.tb_frame,) + getframeinfo(tb, context)\n",
      "  File \"C:\\Users\\Lil Star\\Anaconda3\\lib\\inspect.py\", line 1441, in getframeinfo\n",
      "    filename = getsourcefile(frame) or getfile(frame)\n",
      "  File \"C:\\Users\\Lil Star\\Anaconda3\\lib\\inspect.py\", line 696, in getsourcefile\n",
      "    if getattr(getmodule(object, filename), '__loader__', None) is not None:\n",
      "  File \"C:\\Users\\Lil Star\\Anaconda3\\lib\\inspect.py\", line 739, in getmodule\n",
      "    f = getabsfile(module)\n",
      "  File \"C:\\Users\\Lil Star\\Anaconda3\\lib\\inspect.py\", line 708, in getabsfile\n",
      "    _filename = getsourcefile(object) or getfile(object)\n",
      "  File \"C:\\Users\\Lil Star\\Anaconda3\\lib\\inspect.py\", line 693, in getsourcefile\n",
      "    if os.path.exists(filename):\n",
      "  File \"C:\\Users\\Lil Star\\Anaconda3\\lib\\genericpath.py\", line 19, in exists\n",
      "    os.stat(path)\n",
      "KeyboardInterrupt\n"
     ]
    },
    {
     "ename": "KeyboardInterrupt",
     "evalue": "",
     "output_type": "error",
     "traceback": [
      "\u001b[1;31m---------------------------------------------------------------------------\u001b[0m",
      "\u001b[1;31mKeyboardInterrupt\u001b[0m                         Traceback (most recent call last)",
      "\u001b[1;32m~\\Anaconda3\\lib\\site-packages\\networkx\\drawing\\layout.py\u001b[0m in \u001b[0;36mfruchterman_reingold_layout\u001b[1;34m(G, k, pos, fixed, iterations, threshold, weight, scale, center, dim, random_state)\u001b[0m\n\u001b[0;32m    352\u001b[0m                                            \u001b[0miterations\u001b[0m\u001b[1;33m,\u001b[0m \u001b[0mthreshold\u001b[0m\u001b[1;33m,\u001b[0m\u001b[1;33m\u001b[0m\u001b[0m\n\u001b[1;32m--> 353\u001b[1;33m                                            dim, random_state)\n\u001b[0m\u001b[0;32m    354\u001b[0m     \u001b[1;32mexcept\u001b[0m\u001b[1;33m:\u001b[0m\u001b[1;33m\u001b[0m\u001b[0m\n",
      "\u001b[1;32m<decorator-gen-601>\u001b[0m in \u001b[0;36m_sparse_fruchterman_reingold\u001b[1;34m(A, k, pos, fixed, iterations, threshold, dim, random_state)\u001b[0m\n",
      "\u001b[1;32m~\\Anaconda3\\lib\\site-packages\\networkx\\utils\\decorators.py\u001b[0m in \u001b[0;36m_random_state\u001b[1;34m(func, *args, **kwargs)\u001b[0m\n\u001b[0;32m    386\u001b[0m         \u001b[0mnew_args\u001b[0m\u001b[1;33m[\u001b[0m\u001b[0mrandom_state_index\u001b[0m\u001b[1;33m]\u001b[0m \u001b[1;33m=\u001b[0m \u001b[0mrandom_state_instance\u001b[0m\u001b[1;33m\u001b[0m\u001b[0m\n\u001b[1;32m--> 387\u001b[1;33m         \u001b[1;32mreturn\u001b[0m \u001b[0mfunc\u001b[0m\u001b[1;33m(\u001b[0m\u001b[1;33m*\u001b[0m\u001b[0mnew_args\u001b[0m\u001b[1;33m,\u001b[0m \u001b[1;33m**\u001b[0m\u001b[0mkwargs\u001b[0m\u001b[1;33m)\u001b[0m\u001b[1;33m\u001b[0m\u001b[0m\n\u001b[0m\u001b[0;32m    388\u001b[0m     \u001b[1;32mreturn\u001b[0m \u001b[0m_random_state\u001b[0m\u001b[1;33m\u001b[0m\u001b[0m\n",
      "\u001b[1;32m~\\Anaconda3\\lib\\site-packages\\networkx\\drawing\\layout.py\u001b[0m in \u001b[0;36m_sparse_fruchterman_reingold\u001b[1;34m(A, k, pos, fixed, iterations, threshold, dim, random_state)\u001b[0m\n\u001b[0;32m    505\u001b[0m             \u001b[0mdisplacement\u001b[0m\u001b[1;33m[\u001b[0m\u001b[1;33m:\u001b[0m\u001b[1;33m,\u001b[0m \u001b[0mi\u001b[0m\u001b[1;33m]\u001b[0m \u001b[1;33m+=\u001b[0m\u001b[0;31m\\\u001b[0m\u001b[1;33m\u001b[0m\u001b[0m\n\u001b[1;32m--> 506\u001b[1;33m                 \u001b[1;33m(\u001b[0m\u001b[0mdelta\u001b[0m \u001b[1;33m*\u001b[0m \u001b[1;33m(\u001b[0m\u001b[0mk\u001b[0m \u001b[1;33m*\u001b[0m \u001b[0mk\u001b[0m \u001b[1;33m/\u001b[0m \u001b[0mdistance\u001b[0m\u001b[1;33m**\u001b[0m\u001b[1;36m2\u001b[0m \u001b[1;33m-\u001b[0m \u001b[0mAi\u001b[0m \u001b[1;33m*\u001b[0m \u001b[0mdistance\u001b[0m \u001b[1;33m/\u001b[0m \u001b[0mk\u001b[0m\u001b[1;33m)\u001b[0m\u001b[1;33m)\u001b[0m\u001b[1;33m.\u001b[0m\u001b[0msum\u001b[0m\u001b[1;33m(\u001b[0m\u001b[0maxis\u001b[0m\u001b[1;33m=\u001b[0m\u001b[1;36m1\u001b[0m\u001b[1;33m)\u001b[0m\u001b[1;33m\u001b[0m\u001b[0m\n\u001b[0m\u001b[0;32m    507\u001b[0m         \u001b[1;31m# update positions\u001b[0m\u001b[1;33m\u001b[0m\u001b[1;33m\u001b[0m\u001b[0m\n",
      "\u001b[1;32m~\\Anaconda3\\lib\\site-packages\\numpy\\core\\_methods.py\u001b[0m in \u001b[0;36m_sum\u001b[1;34m(a, axis, dtype, out, keepdims)\u001b[0m\n\u001b[0;32m     31\u001b[0m \u001b[1;32mdef\u001b[0m \u001b[0m_sum\u001b[0m\u001b[1;33m(\u001b[0m\u001b[0ma\u001b[0m\u001b[1;33m,\u001b[0m \u001b[0maxis\u001b[0m\u001b[1;33m=\u001b[0m\u001b[1;32mNone\u001b[0m\u001b[1;33m,\u001b[0m \u001b[0mdtype\u001b[0m\u001b[1;33m=\u001b[0m\u001b[1;32mNone\u001b[0m\u001b[1;33m,\u001b[0m \u001b[0mout\u001b[0m\u001b[1;33m=\u001b[0m\u001b[1;32mNone\u001b[0m\u001b[1;33m,\u001b[0m \u001b[0mkeepdims\u001b[0m\u001b[1;33m=\u001b[0m\u001b[1;32mFalse\u001b[0m\u001b[1;33m)\u001b[0m\u001b[1;33m:\u001b[0m\u001b[1;33m\u001b[0m\u001b[0m\n\u001b[1;32m---> 32\u001b[1;33m     \u001b[1;32mreturn\u001b[0m \u001b[0mumr_sum\u001b[0m\u001b[1;33m(\u001b[0m\u001b[0ma\u001b[0m\u001b[1;33m,\u001b[0m \u001b[0maxis\u001b[0m\u001b[1;33m,\u001b[0m \u001b[0mdtype\u001b[0m\u001b[1;33m,\u001b[0m \u001b[0mout\u001b[0m\u001b[1;33m,\u001b[0m \u001b[0mkeepdims\u001b[0m\u001b[1;33m)\u001b[0m\u001b[1;33m\u001b[0m\u001b[0m\n\u001b[0m\u001b[0;32m     33\u001b[0m \u001b[1;33m\u001b[0m\u001b[0m\n",
      "\u001b[1;31mKeyboardInterrupt\u001b[0m: ",
      "\nDuring handling of the above exception, another exception occurred:\n",
      "\nDuring handling of the above exception, another exception occurred:\n",
      "\u001b[1;31mKeyboardInterrupt\u001b[0m                         Traceback (most recent call last)",
      "\u001b[1;31mKeyboardInterrupt\u001b[0m: "
     ]
    }
   ],
   "source": [
    "#pos=nx.spring_layout(G) #BIGTIME ERROR!"
   ]
  },
  {
   "cell_type": "code",
   "execution_count": null,
   "metadata": {},
   "outputs": [],
   "source": []
  },
  {
   "cell_type": "code",
   "execution_count": null,
   "metadata": {},
   "outputs": [],
   "source": []
  }
 ],
 "metadata": {
  "kernelspec": {
   "display_name": "Python 3",
   "language": "python",
   "name": "python3"
  },
  "language_info": {
   "codemirror_mode": {
    "name": "ipython",
    "version": 3
   },
   "file_extension": ".py",
   "mimetype": "text/x-python",
   "name": "python",
   "nbconvert_exporter": "python",
   "pygments_lexer": "ipython3",
   "version": "3.6.5"
  }
 },
 "nbformat": 4,
 "nbformat_minor": 2
}
